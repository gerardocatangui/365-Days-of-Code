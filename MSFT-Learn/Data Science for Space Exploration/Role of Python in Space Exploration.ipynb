{
 "cells": [
  {
   "cell_type": "markdown",
   "metadata": {},
   "source": [
    "# Role of Python in Space Exploration"
   ]
  },
  {
   "cell_type": "markdown",
   "metadata": {},
   "source": [
    "Python  is the programming language you'll be using throughout this learning path. Although it may seem that you're learning about only one programming language, the concepts learned here can be applied to many others.\n",
    "\n",
    "#### A little bit about Python\n",
    "Guido van Rossum created Python in 1991 and named it after the television show Money Python. Python is a high-level programming language, which means that, from the programmer's point of view, the code reads closer to a natural language (English) and therefore is easier to read and write. Python does the heavy lifting behind the scenes, to convert relatively natural language instructions into commands that a computer can execute.\n",
    "\n",
    "#### Why Python?\n",
    "You may be asking why we chose Python out of all the programming languages out there. Over the past 15 years, Python has become increasingly more popular  and it is often known as a great beginner programming language. It is also versatile and can be applied to advanced computing topics such as data science and machine learning. Additionally, Python has many packages and libraries of code written by others that you can include in your own projects to cut down on the code you need to write.\n",
    "\n",
    "#### Real world examples of Python at work\n",
    "Examples of software that include Python code are YouTube, Dropbox, and Google. NASA even has a page of open-source projects , many of which are programmed in Python.\n",
    "\n",
    "#### Jupyter Notebooks and Python\n",
    "We'll be using a type of file called Jupyter Notebooks  to help you learn Python. Jupyter Notebooks support Python in a read-eval-print loop (REPL) style, which means that users can write a few lines of code in one file, execute them within the file, and then write more code and continue executing. Jupyter Notebooks also supports rerunning \"cells\", which are chunks of code. This kind of coding environment creates a great experience for learning a new programming language."
   ]
  },
  {
   "cell_type": "code",
   "execution_count": 1,
   "metadata": {},
   "outputs": [
    {
     "name": "stdout",
     "output_type": "stream",
     "text": [
      "Hello World\n"
     ]
    }
   ],
   "source": [
    "print (\"Hello World\")"
   ]
  },
  {
   "cell_type": "markdown",
   "metadata": {},
   "source": [
    "Comments allow you to insert statements to make the code more understandable"
   ]
  },
  {
   "cell_type": "code",
   "execution_count": 2,
   "metadata": {},
   "outputs": [],
   "source": [
    "# This is a comment"
   ]
  },
  {
   "cell_type": "markdown",
   "metadata": {},
   "source": [
    "When coding in Python we need to make the code more understandable so other contributors could interpret the code easier. The zen of python states how to code properly. \n",
    "\n",
    "The Zen of Python is a collection of 19 \"guiding principles\" for writing computer programs that influence the design of the Python programming language."
   ]
  },
  {
   "cell_type": "code",
   "execution_count": 3,
   "metadata": {},
   "outputs": [
    {
     "name": "stdout",
     "output_type": "stream",
     "text": [
      "The Zen of Python, by Tim Peters\n",
      "\n",
      "Beautiful is better than ugly.\n",
      "Explicit is better than implicit.\n",
      "Simple is better than complex.\n",
      "Complex is better than complicated.\n",
      "Flat is better than nested.\n",
      "Sparse is better than dense.\n",
      "Readability counts.\n",
      "Special cases aren't special enough to break the rules.\n",
      "Although practicality beats purity.\n",
      "Errors should never pass silently.\n",
      "Unless explicitly silenced.\n",
      "In the face of ambiguity, refuse the temptation to guess.\n",
      "There should be one-- and preferably only one --obvious way to do it.\n",
      "Although that way may not be obvious at first unless you're Dutch.\n",
      "Now is better than never.\n",
      "Although never is often better than *right* now.\n",
      "If the implementation is hard to explain, it's a bad idea.\n",
      "If the implementation is easy to explain, it may be a good idea.\n",
      "Namespaces are one honking great idea -- let's do more of those!\n"
     ]
    }
   ],
   "source": [
    "import this #This code returns the \"Zen of Pythone\""
   ]
  },
  {
   "cell_type": "markdown",
   "metadata": {},
   "source": [
    "## Arthmetic Operations"
   ]
  },
  {
   "cell_type": "code",
   "execution_count": 4,
   "metadata": {},
   "outputs": [
    {
     "data": {
      "text/plain": [
       "5"
      ]
     },
     "execution_count": 4,
     "metadata": {},
     "output_type": "execute_result"
    }
   ],
   "source": [
    "# 2 + 2\n",
    "2 + 3"
   ]
  },
  {
   "cell_type": "code",
   "execution_count": 45,
   "metadata": {},
   "outputs": [
    {
     "data": {
      "text/plain": [
       "Ellipsis"
      ]
     },
     "execution_count": 45,
     "metadata": {},
     "output_type": "execute_result"
    }
   ],
   "source": [
    "# This code is a function that will take in\n",
    "# text and then see what type of space rock it is.\n",
    "# If the rock matches a certain type of rock\n",
    "# it will increase the count of that rock type by 1.\n",
    "# Basalt is a common type of rock found on the moon.\n",
    "\n",
    "def countRocks(rockText):\n",
    "    if(rockText == \"Basalt\"):\n",
    "        basalt = basalt + 1\n",
    "..."
   ]
  },
  {
   "cell_type": "code",
   "execution_count": 6,
   "metadata": {},
   "outputs": [],
   "source": [
    "rocketSpeed = 17000 # rocket speed needed to reach orbit"
   ]
  },
  {
   "cell_type": "markdown",
   "metadata": {},
   "source": [
    "## Simple Calculations"
   ]
  },
  {
   "cell_type": "markdown",
   "metadata": {},
   "source": [
    "As with a calculator, you can use the addition + , subtraction - , multiplication * , and division / operators in Python to add, subtract, multiply, and divide numbers.\n",
    "\n",
    "For example, write the following comment and code in a cell, then select the run button to see the output.\n",
    "\n",
    "Python"
   ]
  },
  {
   "cell_type": "code",
   "execution_count": 7,
   "metadata": {},
   "outputs": [
    {
     "data": {
      "text/plain": [
       "9"
      ]
     },
     "execution_count": 7,
     "metadata": {},
     "output_type": "execute_result"
    }
   ],
   "source": [
    "# Combining two piles of space rocks\n",
    "3 + 6"
   ]
  },
  {
   "cell_type": "code",
   "execution_count": 8,
   "metadata": {},
   "outputs": [
    {
     "data": {
      "text/plain": [
       "12"
      ]
     },
     "execution_count": 8,
     "metadata": {},
     "output_type": "execute_result"
    }
   ],
   "source": [
    "# Lose three units of oxygen\n",
    "15 - 3"
   ]
  },
  {
   "cell_type": "code",
   "execution_count": 9,
   "metadata": {},
   "outputs": [
    {
     "data": {
      "text/plain": [
       "34000"
      ]
     },
     "execution_count": 9,
     "metadata": {},
     "output_type": "execute_result"
    }
   ],
   "source": [
    "# Finding how far a rocket has gone by multiplying speed by time travelling\n",
    "17000 * 2"
   ]
  },
  {
   "cell_type": "code",
   "execution_count": 10,
   "metadata": {},
   "outputs": [
    {
     "data": {
      "text/plain": [
       "25.0"
      ]
     },
     "execution_count": 10,
     "metadata": {},
     "output_type": "execute_result"
    }
   ],
   "source": [
    "# Number of rocks per pile if we separate 100 space rocks in 4 piles\n",
    "100 / 4"
   ]
  },
  {
   "cell_type": "code",
   "execution_count": 11,
   "metadata": {},
   "outputs": [
    {
     "data": {
      "text/plain": [
       "17"
      ]
     },
     "execution_count": 11,
     "metadata": {},
     "output_type": "execute_result"
    }
   ],
   "source": [
    "2 + 5 * 3"
   ]
  },
  {
   "cell_type": "code",
   "execution_count": 12,
   "metadata": {},
   "outputs": [
    {
     "data": {
      "text/plain": [
       "21"
      ]
     },
     "execution_count": 12,
     "metadata": {},
     "output_type": "execute_result"
    }
   ],
   "source": [
    "(2 + 5) * 3"
   ]
  },
  {
   "cell_type": "code",
   "execution_count": 13,
   "metadata": {},
   "outputs": [
    {
     "data": {
      "text/plain": [
       "1"
      ]
     },
     "execution_count": 13,
     "metadata": {},
     "output_type": "execute_result"
    }
   ],
   "source": [
    "# How many rocks will be left when we divide 10 rocks into 3 even piles\n",
    "10 % 3"
   ]
  },
  {
   "cell_type": "code",
   "execution_count": 14,
   "metadata": {},
   "outputs": [
    {
     "data": {
      "text/plain": [
       "234422.88153199226"
      ]
     },
     "execution_count": 14,
     "metadata": {},
     "output_type": "execute_result"
    }
   ],
   "source": [
    "# The moon is just under 10^5.37 miles away\n",
    "10 ** 5.37"
   ]
  },
  {
   "cell_type": "code",
   "execution_count": 15,
   "metadata": {},
   "outputs": [
    {
     "data": {
      "text/plain": [
       "2"
      ]
     },
     "execution_count": 15,
     "metadata": {},
     "output_type": "execute_result"
    }
   ],
   "source": [
    "# How many even piles of 2 we can make with 5 rocks\n",
    "5 // 2"
   ]
  },
  {
   "cell_type": "markdown",
   "metadata": {},
   "source": [
    "## Data Types"
   ]
  },
  {
   "cell_type": "markdown",
   "metadata": {},
   "source": [
    "There are four main types of data variables that you'll encounter throughout this content:\n",
    "\n",
    "- Integers (int): These are whole numbers like 1, 4, 10, -5.\n",
    "- Floats: These are decimal numbers like 0.3, 1.6, 17.4, -3.5.\n",
    "- String: These are chains of characters that are surrounded by single or double quotes like \"hi\", \"NASA\", \"Space Rocks\", \"54321\".\n",
    "- Boolean: Represents either True or False.\n",
    "Try copying the code below and clicking the run button to create some of your own variables:"
   ]
  },
  {
   "cell_type": "code",
   "execution_count": 16,
   "metadata": {},
   "outputs": [],
   "source": [
    "# Integer Variable\n",
    "numberOfRocks = 5\n",
    "\n",
    "# Float Variable\n",
    "tempInSpace = -457.87\n",
    "\n",
    "# String Variable\n",
    "roverName = \"Artemis Rover\"\n",
    "\n",
    "# Boolean Variable\n",
    "rocketOn = False"
   ]
  },
  {
   "cell_type": "code",
   "execution_count": 17,
   "metadata": {},
   "outputs": [
    {
     "data": {
      "text/plain": [
       "'Artemis Rover'"
      ]
     },
     "execution_count": 17,
     "metadata": {},
     "output_type": "execute_result"
    }
   ],
   "source": [
    "roverName"
   ]
  },
  {
   "cell_type": "code",
   "execution_count": 18,
   "metadata": {},
   "outputs": [],
   "source": [
    "# Create integer variable named basaltRockCount with value 0\n",
    "basaltRockCount = 0"
   ]
  },
  {
   "cell_type": "code",
   "execution_count": 19,
   "metadata": {},
   "outputs": [
    {
     "data": {
      "text/plain": [
       "4"
      ]
     },
     "execution_count": 19,
     "metadata": {},
     "output_type": "execute_result"
    }
   ],
   "source": [
    "basaltRockCount = 3\n",
    "basaltRockCount = basaltRockCount + 1\n",
    "basaltRockCount"
   ]
  },
  {
   "cell_type": "code",
   "execution_count": 20,
   "metadata": {},
   "outputs": [],
   "source": [
    "basaltRockCount = 5\n",
    "basaltRockCount += 3 #Add 3\n",
    "basaltRockCount -= 2 #Remove 2"
   ]
  },
  {
   "cell_type": "code",
   "execution_count": 21,
   "metadata": {},
   "outputs": [
    {
     "data": {
      "text/plain": [
       "228621"
      ]
     },
     "execution_count": 21,
     "metadata": {},
     "output_type": "execute_result"
    }
   ],
   "source": [
    "# Find out how many miles until rocket reaches moon\n",
    "distanceToMoon = 238855\n",
    "distanceTraveled = 10234\n",
    "distanceToMoon - distanceTraveled"
   ]
  },
  {
   "cell_type": "code",
   "execution_count": 22,
   "metadata": {},
   "outputs": [
    {
     "data": {
      "text/plain": [
       "228621"
      ]
     },
     "execution_count": 22,
     "metadata": {},
     "output_type": "execute_result"
    }
   ],
   "source": [
    "# Find out how many miles until rocket reaches moon\n",
    "a = 238855\n",
    "b = 10234\n",
    "a - b"
   ]
  },
  {
   "cell_type": "markdown",
   "metadata": {},
   "source": [
    "Strings are one of the most unusual of all variables, because they can take on almost any key from your keyboard. Python also has much pre-made code (called functions) that you can call to manipulate your strings in various ways."
   ]
  },
  {
   "cell_type": "code",
   "execution_count": 23,
   "metadata": {},
   "outputs": [],
   "source": [
    "astronaut = \"Remy Morris\""
   ]
  },
  {
   "cell_type": "code",
   "execution_count": 24,
   "metadata": {},
   "outputs": [
    {
     "data": {
      "text/plain": [
       "'REMY MORRIS'"
      ]
     },
     "execution_count": 24,
     "metadata": {},
     "output_type": "execute_result"
    }
   ],
   "source": [
    "upperCase = astronaut.upper()\n",
    "upperCase"
   ]
  },
  {
   "cell_type": "code",
   "execution_count": 25,
   "metadata": {},
   "outputs": [
    {
     "data": {
      "text/plain": [
       "'remy morris'"
      ]
     },
     "execution_count": 25,
     "metadata": {},
     "output_type": "execute_result"
    }
   ],
   "source": [
    "lowerCase = astronaut.lower()\n",
    "lowerCase"
   ]
  },
  {
   "cell_type": "code",
   "execution_count": 26,
   "metadata": {},
   "outputs": [
    {
     "data": {
      "text/plain": [
       "'Rocket is a launch!'"
      ]
     },
     "execution_count": 26,
     "metadata": {},
     "output_type": "execute_result"
    }
   ],
   "source": [
    "rocketOutput = \"rOckEt iS A laUncH!\"\n",
    "rocketOutput.capitalize()"
   ]
  },
  {
   "cell_type": "code",
   "execution_count": 27,
   "metadata": {},
   "outputs": [
    {
     "data": {
      "text/plain": [
       "'Cape Canaveral, Florida'"
      ]
     },
     "execution_count": 27,
     "metadata": {},
     "output_type": "execute_result"
    }
   ],
   "source": [
    "launchLocationCity = \"Cape Canaveral, \"\n",
    "launchLocationState = \"Florida\"\n",
    "\n",
    "launchLocationCity + launchLocationState"
   ]
  },
  {
   "cell_type": "code",
   "execution_count": 28,
   "metadata": {},
   "outputs": [
    {
     "data": {
      "text/plain": [
       "'beep beep beep beep beep beep '"
      ]
     },
     "execution_count": 28,
     "metadata": {},
     "output_type": "execute_result"
    }
   ],
   "source": [
    "artemisRoverSounds = \"beep beep \"\n",
    "artemisRoverSounds * 3"
   ]
  },
  {
   "cell_type": "markdown",
   "metadata": {},
   "source": [
    "## Lists"
   ]
  },
  {
   "cell_type": "markdown",
   "metadata": {},
   "source": [
    "Lists are ways to store a lot of data in Python and are similar to variables. They are a collection of values stored in the form of a list. Lists are useful in Python because often you'll need more than one piece of data. Lists play a huge role in data science, because the goal of data science is to take large amounts of related data and analyze it. That's why the popular data science Python packages such as Pandas and NumPy have additional data structures such as dataframes and arrays, which are essentially lists with additional features."
   ]
  },
  {
   "cell_type": "code",
   "execution_count": 29,
   "metadata": {},
   "outputs": [
    {
     "data": {
      "text/plain": [
       "['basalt', 'highland', 'breccia']"
      ]
     },
     "execution_count": 29,
     "metadata": {},
     "output_type": "execute_result"
    }
   ],
   "source": [
    "# Create a list of common moon rocks\n",
    "rockTypes = [\"basalt\", \"highland\", \"breccia\"]\n",
    "rockTypes"
   ]
  },
  {
   "cell_type": "code",
   "execution_count": 30,
   "metadata": {},
   "outputs": [
    {
     "data": {
      "text/plain": [
       "['basalt', 1, 'highland', 2.5, 'breccia', 5]"
      ]
     },
     "execution_count": 30,
     "metadata": {},
     "output_type": "execute_result"
    }
   ],
   "source": [
    "# A list with rock names and the number of that rock found\n",
    "rockTypeAndCount = [\"basalt\", 1, \"highland\", 2.5, \"breccia\", 5]\n",
    "rockTypeAndCount"
   ]
  },
  {
   "cell_type": "markdown",
   "metadata": {},
   "source": [
    "## List Functions"
   ]
  },
  {
   "cell_type": "markdown",
   "metadata": {},
   "source": [
    "There are many pre-made functions included in Python, which we can use to modify a list.\n",
    "\n",
    "For example, we can add items to a list by calling the .append() function followed by the data that we want to add in parentheses. Doing this will add an item to the end of a list. Let's add a rock type to our original list."
   ]
  },
  {
   "cell_type": "code",
   "execution_count": 31,
   "metadata": {},
   "outputs": [
    {
     "data": {
      "text/plain": [
       "['basalt', 'highland', 'breccia', 'soil']"
      ]
     },
     "execution_count": 31,
     "metadata": {},
     "output_type": "execute_result"
    }
   ],
   "source": [
    "rockTypes.append(\"soil\")\n",
    "rockTypes"
   ]
  },
  {
   "cell_type": "code",
   "execution_count": 32,
   "metadata": {},
   "outputs": [
    {
     "data": {
      "text/plain": [
       "['basalt', 'highland', 'breccia']"
      ]
     },
     "execution_count": 32,
     "metadata": {},
     "output_type": "execute_result"
    }
   ],
   "source": [
    "rockTypes.pop()\n",
    "rockTypes"
   ]
  },
  {
   "cell_type": "code",
   "execution_count": 33,
   "metadata": {},
   "outputs": [
    {
     "data": {
      "text/plain": [
       "'highland'"
      ]
     },
     "execution_count": 33,
     "metadata": {},
     "output_type": "execute_result"
    }
   ],
   "source": [
    "rockTypes[1]"
   ]
  },
  {
   "cell_type": "code",
   "execution_count": 34,
   "metadata": {},
   "outputs": [
    {
     "data": {
      "text/plain": [
       "['basalt', 'highland', 'soil']"
      ]
     },
     "execution_count": 34,
     "metadata": {},
     "output_type": "execute_result"
    }
   ],
   "source": [
    "rockTypes[2] = \"soil\"\n",
    "rockTypes"
   ]
  },
  {
   "cell_type": "markdown",
   "metadata": {},
   "source": [
    "Now that we've created some variables and given them values, we can learn how to view the values beyond running a notebook cell. We'll use a function called print(). Notebooks are useful because each cell will output the value of the final command without the need to do use the print() function. However, it might be useful to print values or messages between larger code blocks, for debugging, logging, or informational purposes. Without the print() function, the cell will print only the last value:"
   ]
  },
  {
   "cell_type": "code",
   "execution_count": 35,
   "metadata": {},
   "outputs": [
    {
     "data": {
      "text/plain": [
       "8"
      ]
     },
     "execution_count": 35,
     "metadata": {},
     "output_type": "execute_result"
    }
   ],
   "source": [
    "2 + 2\n",
    "5 + 3"
   ]
  },
  {
   "cell_type": "code",
   "execution_count": 36,
   "metadata": {},
   "outputs": [
    {
     "name": "stdout",
     "output_type": "stream",
     "text": [
      "6\n",
      "Hello World\n"
     ]
    }
   ],
   "source": [
    "print(6)\n",
    "print(\"Hello World\")"
   ]
  },
  {
   "cell_type": "code",
   "execution_count": 37,
   "metadata": {},
   "outputs": [
    {
     "name": "stdout",
     "output_type": "stream",
     "text": [
      "15\n"
     ]
    }
   ],
   "source": [
    "numRocks = 15\n",
    "print(numRocks)"
   ]
  },
  {
   "cell_type": "code",
   "execution_count": 38,
   "metadata": {},
   "outputs": [
    {
     "name": "stdout",
     "output_type": "stream",
     "text": [
      "The number of Basalt rocks found: 4\n"
     ]
    }
   ],
   "source": [
    "numBasalt = 4\n",
    "print(\"The number of Basalt rocks found:\", numBasalt)"
   ]
  },
  {
   "cell_type": "code",
   "execution_count": 39,
   "metadata": {},
   "outputs": [
    {
     "name": "stdout",
     "output_type": "stream",
     "text": [
      "On February 26 number of rocks found: 15\n"
     ]
    }
   ],
   "source": [
    "date = \"February 26\"\n",
    "numRocks = 15\n",
    "print(\"On\", date, \"number of rocks found:\", numRocks)"
   ]
  },
  {
   "cell_type": "markdown",
   "metadata": {},
   "source": [
    "## Conditons & Control-Structures"
   ]
  },
  {
   "cell_type": "markdown",
   "metadata": {},
   "source": [
    "Conditions are what need to be met before we change tasks. We can find out if a condition is met by comparing two values. To do this we use something called logical operators. Logical operators will return either True, if the statement is true, or False, if the statement is false. Remember: True and False values are called booleans."
   ]
  },
  {
   "cell_type": "markdown",
   "metadata": {},
   "source": [
    "Here are some common logical operators:\n",
    "\n",
    "- Equals: x == y\n",
    "- Not Equals: x != y\n",
    "- Less than: x < y\n",
    "- Less than or equal to: x <= y\n",
    "- Greater than: x > y\n",
    "- Greater than or equal: x >= y"
   ]
  },
  {
   "cell_type": "code",
   "execution_count": 40,
   "metadata": {},
   "outputs": [
    {
     "name": "stdout",
     "output_type": "stream",
     "text": [
      "True\n",
      "False\n"
     ]
    }
   ],
   "source": [
    "temp = 50\n",
    "print(temp >= 32)\n",
    "print(temp < 32)"
   ]
  },
  {
   "cell_type": "code",
   "execution_count": 41,
   "metadata": {},
   "outputs": [
    {
     "name": "stdout",
     "output_type": "stream",
     "text": [
      "False\n",
      "True\n"
     ]
    }
   ],
   "source": [
    "rock = \"basalt\"\n",
    "print(\"highland\" == rock)\n",
    "print(\"basalt\" == rock)"
   ]
  },
  {
   "cell_type": "code",
   "execution_count": 42,
   "metadata": {},
   "outputs": [
    {
     "name": "stdout",
     "output_type": "stream",
     "text": [
      "False\n",
      "True\n"
     ]
    }
   ],
   "source": [
    "rock = \"basaltrock\"\n",
    "print(\"highland\" in rock)\n",
    "print(\"basalt\" in rock)"
   ]
  },
  {
   "cell_type": "markdown",
   "metadata": {},
   "source": [
    "### If Statements"
   ]
  },
  {
   "cell_type": "markdown",
   "metadata": {},
   "source": [
    "The most basic conditional statement is the if statement. The if statement checks whether a condition is true or not true. If the condition is true, the if statement runs the code that's defined inside the statement. If the condition is not true, any code that's defined inside the if statement is skipped."
   ]
  },
  {
   "cell_type": "markdown",
   "metadata": {},
   "source": [
    "Some real world examples are:\n",
    "\n",
    "- If the temperature is above freezing, the rocket will launch.\n",
    "- If oxygen levels drop, grab a space suit and oxygen tank.\n",
    "In Python, the format for an if statement is:"
   ]
  },
  {
   "cell_type": "code",
   "execution_count": 43,
   "metadata": {},
   "outputs": [
    {
     "ename": "SyntaxError",
     "evalue": "invalid syntax (<ipython-input-43-9f637f087b7d>, line 1)",
     "output_type": "error",
     "traceback": [
      "\u001b[1;36m  File \u001b[1;32m\"<ipython-input-43-9f637f087b7d>\"\u001b[1;36m, line \u001b[1;32m1\u001b[0m\n\u001b[1;33m    if(conditionToTestIsTrue)\u001b[0m\n\u001b[1;37m                             ^\u001b[0m\n\u001b[1;31mSyntaxError\u001b[0m\u001b[1;31m:\u001b[0m invalid syntax\n"
     ]
    }
   ],
   "source": [
    "if(conditionToTestIsTrue)\n",
    "    doSomething"
   ]
  },
  {
   "cell_type": "code",
   "execution_count": null,
   "metadata": {},
   "outputs": [],
   "source": [
    "basalt = 0\n",
    "if(basalt == 0):\n",
    "    print(\"We have found no basalt rocks.\")\n",
    "print(\"Done checking basalt rocks.\")"
   ]
  },
  {
   "cell_type": "code",
   "execution_count": null,
   "metadata": {},
   "outputs": [],
   "source": [
    "basalt = 1\n",
    "if(basalt == 0):\n",
    "    print(\"We have found no basalt rocks.\")\n",
    "print(\"Done checking basalt rocks.\")"
   ]
  },
  {
   "cell_type": "markdown",
   "metadata": {},
   "source": [
    "### Else Statement"
   ]
  },
  {
   "cell_type": "markdown",
   "metadata": {},
   "source": [
    "The else statement extends the if conditional statement and allows coders to have more control over what happens depending on the condition result. An else statement must be written after an if statement. The program always executes the code that's defined inside the else statement when the condition in the if statement is not met."
   ]
  },
  {
   "cell_type": "code",
   "execution_count": null,
   "metadata": {},
   "outputs": [],
   "source": [
    "basalt = 0\n",
    "if(basalt == 0):\n",
    "    print(\"We have found no basalt rocks.\")\n",
    "else:\n",
    "    print(\"We found some basalt rocks!\")\n",
    "print(\"Done checking basalt rocks.\")"
   ]
  },
  {
   "cell_type": "code",
   "execution_count": null,
   "metadata": {},
   "outputs": [],
   "source": [
    "basalt = 5\n",
    "if(basalt == 0):\n",
    "    print(\"We have found no basalt rocks.\")\n",
    "else:\n",
    "    print(\"We found some basalt rocks!\")\n",
    "print(\"Done checking basalt rocks.\")"
   ]
  },
  {
   "cell_type": "markdown",
   "metadata": {},
   "source": [
    "### Else-if statement"
   ]
  },
  {
   "cell_type": "markdown",
   "metadata": {},
   "source": [
    "Python also supports else-if checks, for further control on actions based on data. The <codex>elif</codex> statement is written after an if statement and before an else statement. You can have as many elif statements as you want between the initial if statement and the final else statement.\n",
    "\n",
    "The elif statement is just another if statement. When the conditions in the initial if statement are not met, the program checks whether the conditions in the next elif statement are met. When the conditions for the elif statement are met, the code that's defined inside the elif statement is run. Any code that's defined in a subsequent elif or else statement is skipped."
   ]
  },
  {
   "cell_type": "code",
   "execution_count": null,
   "metadata": {},
   "outputs": [],
   "source": [
    "basalt = 1\n",
    "if(basalt == 0):\n",
    "    print(\"We found no basalt rocks.\")\n",
    "elif(basalt == 1):\n",
    "    print(\"We found exactly 1 basalt rock.\")\n",
    "else:\n",
    "    print(\"We found more than 1 basalt rock!\")\n",
    "print(\"Done checking basalt rocks.\")"
   ]
  },
  {
   "cell_type": "markdown",
   "metadata": {},
   "source": [
    "### While Loops"
   ]
  },
  {
   "cell_type": "markdown",
   "metadata": {},
   "source": [
    "The while loop is one of two iteration types you'll learn about. In this loop you must specify a condition first and then include the code that you want the loop to iterate over. The loop will first check if the condition is True and if it is then it will look at the code inside the loop. When the condition becomes False, the code in the loop will be skipped over and the program will continue executing the rest of your code. If the condition in the loop is False to begin with, the code within the loop will never execute. During a single loop, the program will then go through the loop and run the code. Once the code is finished, it will look back at the condition and see if it is still True. It's essential to change the variables in your loop to eventually have a condition say that it is False, or else an infinite loop will occur."
   ]
  },
  {
   "cell_type": "code",
   "execution_count": null,
   "metadata": {},
   "outputs": [],
   "source": [
    "countdown = 5\n",
    "\n",
    "while countdown >= 0:\n",
    "    print(countdown)\n",
    "    countdown = countdown - 1  \n",
    "print(\"Lift Off\")"
   ]
  },
  {
   "cell_type": "code",
   "execution_count": null,
   "metadata": {},
   "outputs": [],
   "source": [
    "# Trying to find life outside our planet\n",
    "timer = 10\n",
    "while  timer > 0:\n",
    "    print(\"Hello, I am from Earth\")"
   ]
  },
  {
   "cell_type": "markdown",
   "metadata": {},
   "source": [
    "### For Loops"
   ]
  },
  {
   "cell_type": "code",
   "execution_count": null,
   "metadata": {},
   "outputs": [],
   "source": [
    "planets = \"Mars\",\"Saturn\", \"Jupiter\"\n",
    "\n",
    "for planet in planets:\n",
    "    print(planet)"
   ]
  },
  {
   "cell_type": "markdown",
   "metadata": {},
   "source": [
    "## Functions"
   ]
  },
  {
   "cell_type": "code",
   "execution_count": null,
   "metadata": {},
   "outputs": [],
   "source": [
    "def NameOfFunction():\n",
    "\n",
    "  return"
   ]
  },
  {
   "cell_type": "code",
   "execution_count": null,
   "metadata": {},
   "outputs": [],
   "source": [
    "def OutputRocketText():\n",
    "  print(5)\n",
    "  print(4)\n",
    "  print(3)\n",
    "  print(2)\n",
    "  print(1)\n",
    "  print(\"Rocket will be launching soon!\")\n",
    "  \n",
    "  return\n",
    "\n",
    "OutputRocketText()"
   ]
  },
  {
   "cell_type": "markdown",
   "metadata": {},
   "source": [
    "## Importing Data Files"
   ]
  },
  {
   "cell_type": "markdown",
   "metadata": {},
   "source": [
    "In many applications of Python, you'll need to use data from an external source. For example, an Excel file with data tracking the various parts of a rocket or a text file to read the rocks that a moon rover sees. In this unit, we'll learn how to read data from a text file using a pre-made Python function."
   ]
  },
  {
   "cell_type": "code",
   "execution_count": 49,
   "metadata": {},
   "outputs": [],
   "source": [
    "strPath = \"text.txt\""
   ]
  },
  {
   "cell_type": "code",
   "execution_count": 50,
   "metadata": {},
   "outputs": [
    {
     "ename": "FileNotFoundError",
     "evalue": "[Errno 2] No such file or directory: 'text.txt'",
     "output_type": "error",
     "traceback": [
      "\u001b[1;31m---------------------------------------------------------------------------\u001b[0m",
      "\u001b[1;31mFileNotFoundError\u001b[0m                         Traceback (most recent call last)",
      "\u001b[1;32m<ipython-input-50-706e408587b0>\u001b[0m in \u001b[0;36m<module>\u001b[1;34m\u001b[0m\n\u001b[1;32m----> 1\u001b[1;33m \u001b[0mfileObject\u001b[0m \u001b[1;33m=\u001b[0m \u001b[0mopen\u001b[0m\u001b[1;33m(\u001b[0m\u001b[0mstrPath\u001b[0m\u001b[1;33m)\u001b[0m\u001b[1;33m\u001b[0m\u001b[1;33m\u001b[0m\u001b[0m\n\u001b[0m",
      "\u001b[1;31mFileNotFoundError\u001b[0m: [Errno 2] No such file or directory: 'text.txt'"
     ]
    }
   ],
   "source": [
    "fileObject = open(strPath)"
   ]
  },
  {
   "cell_type": "code",
   "execution_count": null,
   "metadata": {},
   "outputs": [],
   "source": [
    "textList = fileObject.readlines()\n",
    "fileObject.close()"
   ]
  },
  {
   "cell_type": "code",
   "execution_count": null,
   "metadata": {},
   "outputs": [],
   "source": [
    "for line in textList:\n",
    "    print(line)"
   ]
  },
  {
   "cell_type": "code",
   "execution_count": null,
   "metadata": {},
   "outputs": [],
   "source": [
    "firstLine = textList[0]\n",
    "print(firstLine)"
   ]
  },
  {
   "cell_type": "code",
   "execution_count": null,
   "metadata": {},
   "outputs": [],
   "source": [
    "secondLine = textList[1]\n",
    "print(secondLine)"
   ]
  },
  {
   "cell_type": "code",
   "execution_count": null,
   "metadata": {},
   "outputs": [],
   "source": [
    "def OutputRocketText():\n",
    "    rocketNumber = 1\n",
    "    print(\"Rocket will launch soon!\")\n",
    "\n",
    "    return\n",
    "\n",
    "OutputRocketText()\n",
    "print(rocketNumber)"
   ]
  },
  {
   "cell_type": "code",
   "execution_count": null,
   "metadata": {},
   "outputs": [],
   "source": [
    "rocketText = \"We will launch in\"\n",
    "def OutputRocketText():\n",
    "    rocketText = rocketText + \" two days\"\n",
    "\n",
    "    return\n",
    "\n",
    "OutputRocketText()"
   ]
  },
  {
   "cell_type": "code",
   "execution_count": null,
   "metadata": {},
   "outputs": [],
   "source": [
    "rocketText = \"We will launch in\"\n",
    "\n",
    "def OutputRocketText():\n",
    "    global rocketText\n",
    "    rocketText = rocketText + \" two days\"\n",
    "\n",
    "    return\n",
    "\n",
    "OutputRocketText()\n",
    "print(rocketText)"
   ]
  },
  {
   "cell_type": "code",
   "execution_count": null,
   "metadata": {},
   "outputs": [],
   "source": [
    "def OutputRocketText(textInput):\n",
    "\n",
    "    textInput = textInput + \" two days\"\n",
    "\n",
    "    return textInput\n",
    "\n",
    "rocketText = \"We will launch in\"\n",
    "newRocketText = OutputRocketText(rocketText)\n",
    "print(newRocketText)"
   ]
  },
  {
   "cell_type": "code",
   "execution_count": null,
   "metadata": {},
   "outputs": [],
   "source": []
  }
 ],
 "metadata": {
  "kernelspec": {
   "display_name": "Python 3",
   "language": "python",
   "name": "python3"
  },
  "language_info": {
   "codemirror_mode": {
    "name": "ipython",
    "version": 3
   },
   "file_extension": ".py",
   "mimetype": "text/x-python",
   "name": "python",
   "nbconvert_exporter": "python",
   "pygments_lexer": "ipython3",
   "version": "3.7.6"
  }
 },
 "nbformat": 4,
 "nbformat_minor": 4
}
